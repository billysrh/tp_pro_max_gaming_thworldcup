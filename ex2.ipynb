{
 "cells": [
  {
   "cell_type": "code",
   "execution_count": 2,
   "metadata": {},
   "outputs": [],
   "source": [
    "import numpy as np\n",
    "from numba import njit\n",
    "from scipy import sparse\n",
    "from tqdm import tqdm"
   ]
  },
  {
   "cell_type": "code",
   "execution_count": 3,
   "metadata": {},
   "outputs": [],
   "source": [
    "@njit\n",
    "def gen_net(N, p):\n",
    "    acc = (np.random.rand(N, N)+np.diag(np.ones(N)))<p\n",
    "    res = np.where(acc>0)\n",
    "        \n",
    "    return np.stack(res, axis=-1)"
   ]
  },
  {
   "cell_type": "code",
   "execution_count": 4,
   "metadata": {},
   "outputs": [],
   "source": [
    "@njit\n",
    "def f(m, N, p, q):\n",
    "    s = np.zeros(N)\n",
    "    s[np.random.choice(N, m, replace=False)] = 1\n",
    "    net = gen_net(N, p)\n",
    "    step = 0\n",
    "\n",
    "    while True:\n",
    "        acc = np.zeros(N)\n",
    "        for line in net:\n",
    "            if s[line[0]]==1:\n",
    "                acc[line[1]] += 1\n",
    "\n",
    "        finish = True\n",
    "        for i in range(N):\n",
    "            if s[i]==1:\n",
    "                continue\n",
    "            elif acc[i]>=q:\n",
    "                s[i] = 1\n",
    "                finish = False\n",
    "        \n",
    "        step += 1\n",
    "        if finish:\n",
    "            break\n",
    "\n",
    "    if s.sum()/N > 0.98:\n",
    "        return 1, step\n",
    "    else:\n",
    "        return 0, step"
   ]
  },
  {
   "cell_type": "code",
   "execution_count": 77,
   "metadata": {},
   "outputs": [],
   "source": [
    "def Np_rel(m, q):\n",
    "    sample = 5\n",
    "    Iter = 3000\n",
    "    Npq = 0.0625\n",
    "\n",
    "    ps = np.linspace(0.01, 0.05, sample)\n",
    "    res = np.zeros(sample)\n",
    "    for i in range(sample):\n",
    "        p = ps[i]\n",
    "        r = 0\n",
    "        for j in range(Iter):\n",
    "            r += f(m, np.round(Npq/p**q).astype(int), p, q)[0]\n",
    "        res[i] = r\n",
    "        \n",
    "    res /= Iter\n",
    "\n",
    "    return res"
   ]
  },
  {
   "cell_type": "code",
   "execution_count": 6,
   "metadata": {},
   "outputs": [],
   "source": [
    "sample = 5\n",
    "Iter = 3000\n",
    "Npq = 0.0625"
   ]
  },
  {
   "cell_type": "code",
   "execution_count": 76,
   "metadata": {},
   "outputs": [
    {
     "data": {
      "text/plain": [
       "60"
      ]
     },
     "execution_count": 76,
     "metadata": {},
     "output_type": "execute_result"
    }
   ],
   "source": [
    "p = 0.05\n",
    "for i in range(5):\n",
    "    for j in range(5):\n",
    "        res += f(5, np.round(Npq/p**3).astype(int), p, 3)[0]\n",
    "res"
   ]
  },
  {
   "cell_type": "code",
   "execution_count": null,
   "metadata": {},
   "outputs": [],
   "source": [
    "ps = np.linspace(0.01, 0.05, sample)\n",
    "\n",
    "for i in range(1):\n",
    "    p = ps[i]\n",
    "    for j in range(1):\n",
    "        j = 0\n",
    "        res = f(5, np.round(Npq/p**3).astype(int), p, 3)[0]"
   ]
  },
  {
   "cell_type": "code",
   "execution_count": null,
   "metadata": {},
   "outputs": [],
   "source": [
    "a = Np_rel(5, 3)"
   ]
  },
  {
   "cell_type": "code",
   "execution_count": 4,
   "metadata": {},
   "outputs": [
    {
     "data": {
      "text/plain": [
       "1"
      ]
     },
     "execution_count": 4,
     "metadata": {},
     "output_type": "execute_result"
    }
   ],
   "source": [
    "f(5, 1000, 0.05, 3)[0]"
   ]
  },
  {
   "cell_type": "code",
   "execution_count": 7,
   "metadata": {},
   "outputs": [],
   "source": [
    "q = 3\n",
    "m = 5\n",
    "Npq = 0.0625\n",
    "sample = 5\n",
    "Iter = 3000\n",
    "ps = np.linspace(0.01, 0.05, sample, endpoint=True)\n",
    "res = np.zeros(sample, dtype=np.float32)"
   ]
  },
  {
   "cell_type": "code",
   "execution_count": 8,
   "metadata": {},
   "outputs": [
    {
     "data": {
      "text/plain": [
       "array([0.01, 0.02, 0.03, 0.04, 0.05])"
      ]
     },
     "execution_count": 8,
     "metadata": {},
     "output_type": "execute_result"
    }
   ],
   "source": [
    "ps"
   ]
  },
  {
   "cell_type": "code",
   "execution_count": 9,
   "metadata": {},
   "outputs": [
    {
     "data": {
      "text/plain": [
       "array([0., 0., 0., 0., 0.], dtype=float32)"
      ]
     },
     "execution_count": 9,
     "metadata": {},
     "output_type": "execute_result"
    }
   ],
   "source": [
    "res"
   ]
  },
  {
   "cell_type": "code",
   "execution_count": 12,
   "metadata": {},
   "outputs": [
    {
     "data": {
      "text/plain": [
       "range(0, 3000)"
      ]
     },
     "execution_count": 12,
     "metadata": {},
     "output_type": "execute_result"
    }
   ],
   "source": [
    "range(Iter)"
   ]
  },
  {
   "cell_type": "code",
   "execution_count": 13,
   "metadata": {},
   "outputs": [
    {
     "data": {
      "text/plain": [
       "3000"
      ]
     },
     "execution_count": 13,
     "metadata": {},
     "output_type": "execute_result"
    }
   ],
   "source": [
    "Iter"
   ]
  },
  {
   "cell_type": "code",
   "execution_count": null,
   "metadata": {},
   "outputs": [],
   "source": []
  }
 ],
 "metadata": {
  "interpreter": {
   "hash": "916dbcbb3f70747c44a77c7bcd40155683ae19c65e1c03b4aa3499c5328201f1"
  },
  "kernelspec": {
   "display_name": "Python 3.9.2 64-bit",
   "name": "python3"
  },
  "language_info": {
   "codemirror_mode": {
    "name": "ipython",
    "version": 3
   },
   "file_extension": ".py",
   "mimetype": "text/x-python",
   "name": "python",
   "nbconvert_exporter": "python",
   "pygments_lexer": "ipython3",
   "version": "3.9.2"
  },
  "orig_nbformat": 4
 },
 "nbformat": 4,
 "nbformat_minor": 2
}
